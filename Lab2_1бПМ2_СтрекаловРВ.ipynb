{
 "cells": [
  {
   "cell_type": "code",
   "execution_count": 13,
   "metadata": {},
   "outputs": [
    {
     "name": "stdout",
     "output_type": "stream",
     "text": [
      "s1 - проекция xy, s2 - проекция yz, s3 - проекция xz\n",
      "1  - S1\n",
      "2  - s2\n",
      "2  - s3\n",
      "5  - total area\n",
      "4  - S1\n",
      "6  - s2\n",
      "7  - s3\n",
      "17  - total area\n",
      "2  - S1\n",
      "3  - s2\n",
      "3  - s3\n",
      "8  - total area\n",
      "8  - S1\n",
      "3  - s2\n",
      "3  - s3\n",
      "14  - total area\n",
      "9  - S1\n",
      "6  - s2\n",
      "6  - s3\n",
      "21  - total area\n"
     ]
    }
   ],
   "source": [
    "def Projection_Areas(grid):\n",
    "\n",
    "    s2 = 0; s1 = 0;\n",
    "    for i in range(len(grid)):\n",
    "        t = 0;\n",
    "        for j in range(len(grid)):\n",
    "            if(grid[i][j] > t):\n",
    "                t = grid[i][j];\n",
    "            if(grid[i][j] > 0):\n",
    "                s1 += 1;\n",
    "#        print(t, \" t\") #проверка\n",
    "        s2 += t;\n",
    "    print(s1, ' - S1');\n",
    "    print(s2, \" - s2\");\n",
    "\n",
    "\n",
    "    s3 = 0;\n",
    "    for j in range(len(grid)):\n",
    "        t1 = 0;\n",
    "        for i in range(len(grid)):\n",
    "#            print(grid[i][j]) #проверка\n",
    "            if(grid[i][j] > t1):\n",
    "                t1 = grid[i][j];\n",
    "#        print(t1, \" t1\"); #проверка\n",
    "        s3 += t1;\n",
    "    print(s3, \" - s3\");\n",
    "    \n",
    "    return s1+s2+s3\n",
    "\n",
    "print (\"s1 - проекция xy, s2 - проекция yz, s3 - проекция xz\")\n",
    "v = [ [[2]], [[1, 2], [3, 4]], [[1, 0], [0, 2]], [[1, 1, 1], [1, 0, 1], [1, 1, 1]], [[2,2,2],[2,1,2],[2,2,2]] ];\n",
    "for i in range(len(v)):\n",
    "    print(Projection_Areas(v[i]), \" - total area\")\n",
    "    "
   ]
  },
  {
   "cell_type": "code",
   "execution_count": null,
   "metadata": {},
   "outputs": [],
   "source": []
  }
 ],
 "metadata": {
  "kernelspec": {
   "display_name": "Python 3",
   "language": "python",
   "name": "python3"
  },
  "language_info": {
   "codemirror_mode": {
    "name": "ipython",
    "version": 3
   },
   "file_extension": ".py",
   "mimetype": "text/x-python",
   "name": "python",
   "nbconvert_exporter": "python",
   "pygments_lexer": "ipython3",
   "version": "3.8.5"
  }
 },
 "nbformat": 4,
 "nbformat_minor": 4
}
